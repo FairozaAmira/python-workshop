{
 "cells": [
  {
   "cell_type": "markdown",
   "metadata": {
    "colab_type": "text",
    "id": "view-in-github"
   },
   "source": [
    "<a href=\"https://colab.research.google.com/github/FairozaAmira/AI_Programming_1_e/blob/master/Lesson06/Strings.ipynb\" target=\"_parent\"><img src=\"https://colab.research.google.com/assets/colab-badge.svg\" alt=\"Open In Colab\"/></a>"
   ]
  },
  {
   "cell_type": "markdown",
   "metadata": {
    "colab_type": "text",
    "id": "ul76u5w5dP3J"
   },
   "source": [
    "# Solutions for strings exercises"
   ]
  },
  {
   "cell_type": "markdown",
   "metadata": {
    "colab_type": "text",
    "id": "W4m_kqykdP3L"
   },
   "source": [
    "1. Create a string for a variable “text”. "
   ]
  },
  {
   "cell_type": "code",
   "execution_count": 1,
   "metadata": {
    "colab": {},
    "colab_type": "code",
    "id": "5qvn6OMLdP3N"
   },
   "outputs": [],
   "source": [
    "text = \"I love Malaysia\""
   ]
  },
  {
   "cell_type": "markdown",
   "metadata": {
    "colab_type": "text",
    "id": "UCVVJSPpdP3Q"
   },
   "source": [
    "2. Find the length of “text”."
   ]
  },
  {
   "cell_type": "code",
   "execution_count": 2,
   "metadata": {
    "colab": {},
    "colab_type": "code",
    "id": "n3IYBcqtdP3R",
    "outputId": "9e68a432-ca0d-4aa0-fe62-bf9a74140742"
   },
   "outputs": [
    {
     "data": {
      "text/plain": [
       "15"
      ]
     },
     "execution_count": 2,
     "metadata": {},
     "output_type": "execute_result"
    }
   ],
   "source": [
    "len(text)"
   ]
  },
  {
   "cell_type": "markdown",
   "metadata": {
    "colab_type": "text",
    "id": "TbQYnai9dP3U"
   },
   "source": [
    "3. Change the “text” to all upper case letters."
   ]
  },
  {
   "cell_type": "code",
   "execution_count": 3,
   "metadata": {
    "colab": {},
    "colab_type": "code",
    "id": "bUjKnYcwdP3V",
    "outputId": "7169f688-b9bd-4776-d2b4-55c9cd87265a"
   },
   "outputs": [
    {
     "data": {
      "text/plain": [
       "'I LOVE MALAYSIA'"
      ]
     },
     "execution_count": 3,
     "metadata": {},
     "output_type": "execute_result"
    }
   ],
   "source": [
    "text.upper()"
   ]
  },
  {
   "cell_type": "markdown",
   "metadata": {
    "colab_type": "text",
    "id": "Edrl83IBdP3X"
   },
   "source": [
    "4. Capitalize the “text”."
   ]
  },
  {
   "cell_type": "code",
   "execution_count": 4,
   "metadata": {
    "colab": {},
    "colab_type": "code",
    "id": "diHzVXahdP3Y",
    "outputId": "9a56931a-a94b-4e88-fd29-18c915513c6b"
   },
   "outputs": [
    {
     "data": {
      "text/plain": [
       "'I love malaysia'"
      ]
     },
     "execution_count": 4,
     "metadata": {},
     "output_type": "execute_result"
    }
   ],
   "source": [
    "text.capitalize()"
   ]
  },
  {
   "cell_type": "markdown",
   "metadata": {
    "colab_type": "text",
    "id": "UsOjH9JrdP3a"
   },
   "source": [
    "5. Create another string and set it as the variable “text02”. Add “text” with “text02” and turn it into one sentence"
   ]
  },
  {
   "cell_type": "code",
   "execution_count": 12,
   "metadata": {
    "colab": {},
    "colab_type": "code",
    "id": "f254g05wdP3b",
    "outputId": "aaa2b898-02ab-4ca0-843f-ee142c61a7af"
   },
   "outputs": [
    {
     "data": {
      "text/plain": [
       "'I love Malaysiaso muchso much'"
      ]
     },
     "execution_count": 12,
     "metadata": {},
     "output_type": "execute_result"
    }
   ],
   "source": [
    "text02 = 'so much'\n",
    "text += text02\n",
    "text"
   ]
  },
  {
   "cell_type": "code",
   "execution_count": 6,
   "metadata": {
    "colab": {},
    "colab_type": "code",
    "id": "4T0tfxvJdP3d",
    "outputId": "6d59c3c0-64b4-4a81-e717-2864017705c8"
   },
   "outputs": [
    {
     "data": {
      "text/plain": [
       "'I love Malaysia so much.'"
      ]
     },
     "execution_count": 6,
     "metadata": {},
     "output_type": "execute_result"
    }
   ],
   "source": [
    "text + \" \" + text02 + \".\""
   ]
  },
  {
   "cell_type": "markdown",
   "metadata": {
    "colab_type": "text",
    "id": "8RQNEwJwdP3g"
   },
   "source": [
    "6. Multiply “text” with 5."
   ]
  },
  {
   "cell_type": "code",
   "execution_count": 7,
   "metadata": {
    "colab": {},
    "colab_type": "code",
    "id": "znWMaljxdP3h",
    "outputId": "7182ba4b-6f7e-490f-e9c1-9f290d6a45e8"
   },
   "outputs": [
    {
     "data": {
      "text/plain": [
       "'I love MalaysiaI love MalaysiaI love MalaysiaI love MalaysiaI love Malaysia'"
      ]
     },
     "execution_count": 7,
     "metadata": {},
     "output_type": "execute_result"
    }
   ],
   "source": [
    "text * 5"
   ]
  },
  {
   "cell_type": "markdown",
   "metadata": {
    "colab_type": "text",
    "id": "GVlrwyj7dP3j"
   },
   "source": [
    "7. Access text[0] and text[2]."
   ]
  },
  {
   "cell_type": "code",
   "execution_count": 13,
   "metadata": {
    "colab": {},
    "colab_type": "code",
    "id": "8D5xMu3SdP3j",
    "outputId": "5911ccc8-c289-44e0-8971-ed8ee483f94b"
   },
   "outputs": [
    {
     "data": {
      "text/plain": [
       "'I'"
      ]
     },
     "execution_count": 13,
     "metadata": {},
     "output_type": "execute_result"
    }
   ],
   "source": [
    "text[0]"
   ]
  },
  {
   "cell_type": "code",
   "execution_count": 14,
   "metadata": {
    "colab": {},
    "colab_type": "code",
    "id": "xVrW549AdP3m",
    "outputId": "c5d09082-1ac0-45ca-97f3-110befdf1886"
   },
   "outputs": [
    {
     "data": {
      "text/plain": [
       "'l'"
      ]
     },
     "execution_count": 14,
     "metadata": {},
     "output_type": "execute_result"
    }
   ],
   "source": [
    "text[2]"
   ]
  },
  {
   "cell_type": "code",
   "execution_count": null,
   "metadata": {},
   "outputs": [],
   "source": []
  }
 ],
 "metadata": {
  "colab": {
   "include_colab_link": true,
   "name": "Strings.ipynb ",
   "provenance": []
  },
  "kernelspec": {
   "display_name": "Python 3",
   "language": "python",
   "name": "python3"
  },
  "language_info": {
   "codemirror_mode": {
    "name": "ipython",
    "version": 3
   },
   "file_extension": ".py",
   "mimetype": "text/x-python",
   "name": "python",
   "nbconvert_exporter": "python",
   "pygments_lexer": "ipython3",
   "version": "3.8.0"
  }
 },
 "nbformat": 4,
 "nbformat_minor": 1
}
