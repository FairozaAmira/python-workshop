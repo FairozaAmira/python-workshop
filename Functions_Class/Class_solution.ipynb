{
 "cells": [
  {
   "cell_type": "markdown",
   "metadata": {
    "colab_type": "text",
    "id": "view-in-github"
   },
   "source": [
    "<a href=\"https://colab.research.google.com/github/FairozaAmira/AI_Programming_1_e/blob/master/Lesson09/Class_solution.ipynb\" target=\"_parent\"><img src=\"https://colab.research.google.com/assets/colab-badge.svg\" alt=\"Open In Colab\"/></a>"
   ]
  },
  {
   "cell_type": "markdown",
   "metadata": {
    "colab_type": "text",
    "id": "IfdBdciJFPPO"
   },
   "source": [
    "# Solution for Classes Exercises"
   ]
  },
  {
   "cell_type": "markdown",
   "metadata": {
    "colab_type": "text",
    "id": "IMpBleFwFPPW"
   },
   "source": [
    "**Question 1**\n",
    "\n",
    "Create a class named Animal, use the `__init__()` function to assign values for animal's name and their amounts."
   ]
  },
  {
   "cell_type": "code",
   "execution_count": 1,
   "metadata": {
    "colab": {
     "base_uri": "https://localhost:8080/",
     "height": 53
    },
    "colab_type": "code",
    "id": "JKeSUc-6FPPX",
    "outputId": "35866142-7f26-4bb8-ec7e-f31fd473f55a"
   },
   "outputs": [
    {
     "name": "stdout",
     "output_type": "stream",
     "text": [
      "cat\n",
      "4\n"
     ]
    }
   ],
   "source": [
    "class Animal:\n",
    "    def __init__(self, animal_name, amounts):\n",
    "        self.animal_name = animal_name\n",
    "        self.amounts = amounts\n",
    "        \n",
    "a1 = Animal(\"cat\", 4)\n",
    "\n",
    "print(a1.animal_name)\n",
    "print(a1.amounts)"
   ]
  },
  {
   "cell_type": "markdown",
   "metadata": {
    "colab_type": "text",
    "id": "tA6kFFHNFPPc"
   },
   "source": [
    "**Question 2**\n",
    "\n",
    "Methods in objects are functions that belongs to the object.\n",
    "\n",
    "Insert a function that prints `There are <amounts> <animal's name>(s) in the zoo.`, and execute it on the a1 object."
   ]
  },
  {
   "cell_type": "code",
   "execution_count": 2,
   "metadata": {
    "colab": {
     "base_uri": "https://localhost:8080/",
     "height": 35
    },
    "colab_type": "code",
    "id": "m-Lvo01fFPPc",
    "outputId": "58e0d517-835b-4b0c-f4fb-2f96dd57a0f5"
   },
   "outputs": [
    {
     "name": "stdout",
     "output_type": "stream",
     "text": [
      "There are 4 cat(s) in the zoo.\n"
     ]
    }
   ],
   "source": [
    "class Animal:\n",
    "    def __init__(self, animal_name, amounts):\n",
    "        self.animal_name = animal_name\n",
    "        self.amounts = amounts\n",
    "    \n",
    "    def myfunc(self):\n",
    "        return(\"There are {} {}(s) in the zoo.\".format(self.amounts, self.animal_name))\n",
    "        \n",
    "a1 = Animal(\"cat\", 4)\n",
    "print(a1.myfunc())"
   ]
  },
  {
   "cell_type": "markdown",
   "metadata": {
    "colab_type": "text",
    "id": "Ci8ledIKFPPf"
   },
   "source": [
    "**Question 3**\n",
    "\n",
    "Change the word `self` inside the `Class` with any names you like and see whether the results are different or not."
   ]
  },
  {
   "cell_type": "code",
   "execution_count": 4,
   "metadata": {
    "colab": {
     "base_uri": "https://localhost:8080/",
     "height": 35
    },
    "colab_type": "code",
    "id": "YpYOeTkEFPPi",
    "outputId": "90794109-a7a7-45f3-f103-e9d103a282ff"
   },
   "outputs": [
    {
     "name": "stdout",
     "output_type": "stream",
     "text": [
      "There are 4 cat(s) in the zoo.\n"
     ]
    }
   ],
   "source": [
    "class Animal:\n",
    "    def __init__(anything, animal_name, amounts):\n",
    "        anything.animal_name = animal_name\n",
    "        anything.amounts = amounts\n",
    "    \n",
    "    def myfunc(abc):\n",
    "        return(\"There are {} {}(s) in the zoo.\".format(abc.amounts, abc.animal_name))\n",
    "        \n",
    "a1 = Animal(\"cat\", 4)\n",
    "print(a1.myfunc())"
   ]
  },
  {
   "cell_type": "code",
   "execution_count": 0,
   "metadata": {
    "colab": {},
    "colab_type": "code",
    "id": "axGc6vb-FPPn"
   },
   "outputs": [],
   "source": []
  }
 ],
 "metadata": {
  "colab": {
   "collapsed_sections": [],
   "include_colab_link": true,
   "name": "Class_solution.ipynb",
   "provenance": []
  },
  "kernelspec": {
   "display_name": "Python 3",
   "language": "python",
   "name": "python3"
  },
  "language_info": {
   "codemirror_mode": {
    "name": "ipython",
    "version": 3
   },
   "file_extension": ".py",
   "mimetype": "text/x-python",
   "name": "python",
   "nbconvert_exporter": "python",
   "pygments_lexer": "ipython3",
   "version": "3.8.0"
  }
 },
 "nbformat": 4,
 "nbformat_minor": 1
}
