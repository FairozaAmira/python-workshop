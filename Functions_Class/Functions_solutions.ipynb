{
 "cells": [
  {
   "cell_type": "markdown",
   "metadata": {
    "colab_type": "text",
    "id": "view-in-github"
   },
   "source": [
    "<a href=\"https://colab.research.google.com/github/FairozaAmira/AI_Programming_1_e/blob/master/Lesson09/Functions_solutions.ipynb\" target=\"_parent\"><img src=\"https://colab.research.google.com/assets/colab-badge.svg\" alt=\"Open In Colab\"/></a>"
   ]
  },
  {
   "cell_type": "markdown",
   "metadata": {
    "colab_type": "text",
    "id": "d4rm-uXaFCxn"
   },
   "source": [
    "# Solution for Defining a Function Exercises "
   ]
  },
  {
   "cell_type": "markdown",
   "metadata": {
    "colab_type": "text",
    "id": "_6IlspZbFCxq"
   },
   "source": [
    "It is necessary to return a function in order to use the value (results) from a function. \n",
    "\n",
    "**Question 1**\n",
    "\n",
    "Write two functions which end with `print` and `return`.\n",
    "The function is to define a sum between two numbers.\n",
    "By using the two functions, add another number to the result of the function.\n",
    "For example,\n",
    "a = 3, b=7\n",
    "the total is\n",
    "a + b = 3 + 7 = 10\n",
    "then, add again, \n",
    "c = 3\n",
    "total = 10 + 3 = 13\n",
    "\n",
    "See the difference between both `print` and `return` statements."
   ]
  },
  {
   "cell_type": "code",
   "execution_count": 0,
   "metadata": {
    "colab": {},
    "colab_type": "code",
    "id": "yp0OcrYvFCxs",
    "outputId": "4a76d788-34bf-4d1a-b9ec-fe5b707a557a"
   },
   "outputs": [
    {
     "name": "stdout",
     "output_type": "stream",
     "text": [
      "10\n",
      "None\n"
     ]
    },
    {
     "ename": "TypeError",
     "evalue": "unsupported operand type(s) for +: 'NoneType' and 'int'",
     "output_type": "error",
     "traceback": [
      "\u001b[1;31m---------------------------------------------------------------------------\u001b[0m",
      "\u001b[1;31mTypeError\u001b[0m                                 Traceback (most recent call last)",
      "\u001b[1;32m<ipython-input-2-204a300f968c>\u001b[0m in \u001b[0;36m<module>\u001b[1;34m\u001b[0m\n\u001b[0;32m      7\u001b[0m \u001b[0mtotal\u001b[0m \u001b[1;33m=\u001b[0m \u001b[0mtotal_numbers_1\u001b[0m\u001b[1;33m(\u001b[0m\u001b[1;36m3\u001b[0m\u001b[1;33m,\u001b[0m \u001b[1;36m7\u001b[0m\u001b[1;33m)\u001b[0m\u001b[1;33m\u001b[0m\u001b[1;33m\u001b[0m\u001b[0m\n\u001b[0;32m      8\u001b[0m \u001b[0mprint\u001b[0m\u001b[1;33m(\u001b[0m\u001b[0mtotal\u001b[0m\u001b[1;33m)\u001b[0m\u001b[1;33m\u001b[0m\u001b[1;33m\u001b[0m\u001b[0m\n\u001b[1;32m----> 9\u001b[1;33m \u001b[0madd_again\u001b[0m \u001b[1;33m=\u001b[0m \u001b[0mtotal_numbers_1\u001b[0m\u001b[1;33m(\u001b[0m\u001b[0mtotal\u001b[0m\u001b[1;33m,\u001b[0m \u001b[1;36m3\u001b[0m\u001b[1;33m)\u001b[0m\u001b[1;33m\u001b[0m\u001b[1;33m\u001b[0m\u001b[0m\n\u001b[0m\u001b[0;32m     10\u001b[0m \u001b[0mprint\u001b[0m\u001b[1;33m(\u001b[0m\u001b[0madd_again\u001b[0m\u001b[1;33m)\u001b[0m\u001b[1;33m\u001b[0m\u001b[1;33m\u001b[0m\u001b[0m\n",
      "\u001b[1;32m<ipython-input-2-204a300f968c>\u001b[0m in \u001b[0;36mtotal_numbers_1\u001b[1;34m(a, b)\u001b[0m\n\u001b[0;32m      1\u001b[0m \u001b[1;32mdef\u001b[0m \u001b[0mtotal_numbers_1\u001b[0m\u001b[1;33m(\u001b[0m\u001b[0ma\u001b[0m\u001b[1;33m,\u001b[0m \u001b[0mb\u001b[0m\u001b[1;33m)\u001b[0m\u001b[1;33m:\u001b[0m\u001b[1;33m\u001b[0m\u001b[1;33m\u001b[0m\u001b[0m\n\u001b[1;32m----> 2\u001b[1;33m     \u001b[0mprint\u001b[0m\u001b[1;33m(\u001b[0m\u001b[0ma\u001b[0m\u001b[1;33m+\u001b[0m\u001b[0mb\u001b[0m\u001b[1;33m)\u001b[0m\u001b[1;33m\u001b[0m\u001b[1;33m\u001b[0m\u001b[0m\n\u001b[0m\u001b[0;32m      3\u001b[0m \u001b[1;33m\u001b[0m\u001b[0m\n\u001b[0;32m      4\u001b[0m \u001b[1;32mdef\u001b[0m \u001b[0mtotal_numbers_2\u001b[0m\u001b[1;33m(\u001b[0m\u001b[0ma\u001b[0m\u001b[1;33m,\u001b[0m\u001b[0mb\u001b[0m\u001b[1;33m)\u001b[0m\u001b[1;33m:\u001b[0m\u001b[1;33m\u001b[0m\u001b[1;33m\u001b[0m\u001b[0m\n\u001b[0;32m      5\u001b[0m     \u001b[1;32mreturn\u001b[0m \u001b[0ma\u001b[0m\u001b[1;33m+\u001b[0m\u001b[0mb\u001b[0m\u001b[1;33m\u001b[0m\u001b[1;33m\u001b[0m\u001b[0m\n",
      "\u001b[1;31mTypeError\u001b[0m: unsupported operand type(s) for +: 'NoneType' and 'int'"
     ]
    }
   ],
   "source": [
    "def total_numbers_1(a, b):\n",
    "    print(a+b)\n",
    "\n",
    "def total_numbers_2(a,b):\n",
    "    return a+b\n",
    "\n",
    "total = total_numbers_1(3,7)\n",
    "print(total)\n",
    "add_again = total_numbers_1(total, 3)\n",
    "print(add_again)"
   ]
  },
  {
   "cell_type": "code",
   "execution_count": 0,
   "metadata": {
    "colab": {},
    "colab_type": "code",
    "id": "zwsIWdj0FCx0",
    "outputId": "2804064e-a9c3-4698-b73f-f01be93ecaad"
   },
   "outputs": [
    {
     "name": "stdout",
     "output_type": "stream",
     "text": [
      "10\n",
      "13\n"
     ]
    }
   ],
   "source": [
    "total = total_numbers_2(3, 7)\n",
    "print(total)\n",
    "add_again = total_numbers_2(total, 3)\n",
    "print(add_again)"
   ]
  },
  {
   "cell_type": "markdown",
   "metadata": {
    "colab_type": "text",
    "id": "PlSapDaEFCx4"
   },
   "source": [
    "**Question 2**\n",
    "\n",
    "Write a function that take an integer `minutes` and return as string that shows how many hours that is.\n",
    "\n",
    "The output of a function of this\n",
    "\n",
    "`print(how_many_hours(215)`\n",
    "\n",
    "is \n",
    "\n",
    "` 3 hour(s) and 35 minute(s)` "
   ]
  },
  {
   "cell_type": "code",
   "execution_count": 0,
   "metadata": {
    "colab": {},
    "colab_type": "code",
    "id": "fll3ePn5FCx5",
    "outputId": "24b2cb01-c2cd-4624-fbda-1d6d53d62dcf"
   },
   "outputs": [
    {
     "name": "stdout",
     "output_type": "stream",
     "text": [
      "3 hour(s) and 35 minute(s)\n"
     ]
    }
   ],
   "source": [
    "def how_many_hours(minutes):\n",
    "    hours = minutes // 60\n",
    "    remainder = minutes % 60\n",
    "    return \"{} hour(s) and {} minute(s)\".format(hours, remainder)\n",
    "\n",
    "print(how_many_hours(215))"
   ]
  },
  {
   "cell_type": "code",
   "execution_count": 2,
   "metadata": {},
   "outputs": [
    {
     "name": "stdout",
     "output_type": "stream",
     "text": [
      "3 hour(s) and 35 minute(s)\n"
     ]
    }
   ],
   "source": [
    "def how_many_hours(minutes):\n",
    "    hours = minutes // 60\n",
    "    remainder = minutes % 60\n",
    "    return hours, remainder\n",
    "\n",
    "a, b = how_many_hours(215)\n",
    "print(\"{} hour(s) and {} minute(s)\".format(a, b))"
   ]
  },
  {
   "cell_type": "markdown",
   "metadata": {
    "colab_type": "text",
    "id": "K7UywesdFCx9"
   },
   "source": [
    "**Question 3**\n",
    "\n",
    "*Lambda function*\n",
    "\n",
    "Write a lambda and a normal function of a multiplication statement of x and y.\n",
    "\n",
    "$multiply = x \\times y$"
   ]
  },
  {
   "cell_type": "code",
   "execution_count": 0,
   "metadata": {
    "colab": {},
    "colab_type": "code",
    "id": "yCpz11pIFCx-",
    "outputId": "227ae4aa-053f-4faa-f9e9-0b796e3a80f6"
   },
   "outputs": [
    {
     "data": {
      "text/plain": [
       "6"
      ]
     },
     "execution_count": 5,
     "metadata": {
      "tags": []
     },
     "output_type": "execute_result"
    }
   ],
   "source": [
    "multiply = lambda x, y: x * y\n",
    "multiply (2,3)"
   ]
  },
  {
   "cell_type": "code",
   "execution_count": 0,
   "metadata": {
    "colab": {},
    "colab_type": "code",
    "id": "Fs0L_9odFCyC",
    "outputId": "8f1e0b7e-7f20-4f59-86ae-b272d59038d9"
   },
   "outputs": [
    {
     "name": "stdout",
     "output_type": "stream",
     "text": [
      "6\n"
     ]
    }
   ],
   "source": [
    "def multiply(x,y):\n",
    "    return x*y\n",
    "print(multiply(2,3))"
   ]
  },
  {
   "cell_type": "markdown",
   "metadata": {
    "colab_type": "text",
    "id": "4ayxOzyKFCyH"
   },
   "source": [
    "**Question 4**\n",
    "\n",
    "Use `lambda` function to sort a dictionary given as below.\n",
    "The dictionary should be sorted in alphabetical order.\n",
    "\n",
    "`data = [{'animals': 'horse', 'age': 3},\n",
    "        {'animals': 'cat', 'age': 1},\n",
    "        {'animals': 'giraffe', 'age': 5}]`\n",
    "\n",
    "Use `sorted` function to sort the dictionary above."
   ]
  },
  {
   "cell_type": "code",
   "execution_count": 0,
   "metadata": {
    "colab": {},
    "colab_type": "code",
    "id": "-IazGeNvFCyJ",
    "outputId": "dfced6f6-636c-4623-ac3b-e8fffe3ee752"
   },
   "outputs": [
    {
     "data": {
      "text/plain": [
       "[{'animals': 'cat', 'age': 1},\n",
       " {'animals': 'giraffe', 'age': 5},\n",
       " {'animals': 'horse', 'age': 3}]"
      ]
     },
     "execution_count": 7,
     "metadata": {
      "tags": []
     },
     "output_type": "execute_result"
    }
   ],
   "source": [
    "data = [{'animals': 'horse', 'age': 3},\n",
    "        {'animals': 'cat', 'age': 1},\n",
    "        {'animals': 'giraffe', 'age': 5}]\n",
    "\n",
    "sorted(data, key=lambda item: item['animals'])"
   ]
  },
  {
   "cell_type": "code",
   "execution_count": 0,
   "metadata": {
    "colab": {},
    "colab_type": "code",
    "id": "5jnRRGOAFCyM"
   },
   "outputs": [],
   "source": []
  }
 ],
 "metadata": {
  "colab": {
   "collapsed_sections": [],
   "include_colab_link": true,
   "name": "Functions_solutions.ipynb",
   "provenance": []
  },
  "kernelspec": {
   "display_name": "Python 3",
   "language": "python",
   "name": "python3"
  },
  "language_info": {
   "codemirror_mode": {
    "name": "ipython",
    "version": 3
   },
   "file_extension": ".py",
   "mimetype": "text/x-python",
   "name": "python",
   "nbconvert_exporter": "python",
   "pygments_lexer": "ipython3",
   "version": "3.8.0"
  }
 },
 "nbformat": 4,
 "nbformat_minor": 1
}
