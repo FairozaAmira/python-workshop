{
 "cells": [
  {
   "cell_type": "markdown",
   "metadata": {
    "colab_type": "text",
    "id": "view-in-github"
   },
   "source": [
    "<a href=\"https://colab.research.google.com/github/FairozaAmira/AI_Programming_1_e/blob/master/Lesson07/Dictionaries.ipynb\" target=\"_parent\"><img src=\"https://colab.research.google.com/assets/colab-badge.svg\" alt=\"Open In Colab\"/></a>"
   ]
  },
  {
   "cell_type": "markdown",
   "metadata": {
    "colab_type": "text",
    "id": "eaBhHQfVgqSL"
   },
   "source": [
    "# Solution for Dictionaries Exercises"
   ]
  },
  {
   "cell_type": "markdown",
   "metadata": {
    "colab_type": "text",
    "id": "jYMznBLigqSM"
   },
   "source": [
    "1.  Create a dictionary which contains 'english spelling' for keys and 'number' in integer as values from 1 to 10 in random orders. For example, one: 1, two: 2. Set the dictionary as variable 'numbers'."
   ]
  },
  {
   "cell_type": "code",
   "execution_count": 3,
   "metadata": {
    "colab": {},
    "colab_type": "code",
    "id": "EXQxhEe2gqSO",
    "outputId": "7d135373-275e-4391-bf96-0dc94a183dfd"
   },
   "outputs": [
    {
     "name": "stdout",
     "output_type": "stream",
     "text": [
      "{'one': 1, 'three': 3, 'seven': 7, 'two': 2, 'four': 4, 'eight': 8, 'ten': 10, 'five': 5, 'six': 6, 'nine': 9}\n"
     ]
    }
   ],
   "source": [
    "numbers = {'one': 1, \n",
    "           'three': 3, \n",
    "           'seven': 7,\n",
    "           'two': 2, \n",
    "           'four': 4, \n",
    "           'eight': 8, \n",
    "           'ten': 10, \n",
    "           'five': 5, \n",
    "           'six': 6,\n",
    "           'nine': 9}\n",
    "print(numbers)"
   ]
  },
  {
   "cell_type": "markdown",
   "metadata": {
    "colab_type": "text",
    "id": "i1SZZH6zgqSU"
   },
   "source": [
    "2. What is the second key of *numbers*?"
   ]
  },
  {
   "cell_type": "code",
   "execution_count": 4,
   "metadata": {
    "colab": {},
    "colab_type": "code",
    "id": "p4WkCG9vgqSV",
    "outputId": "7002f398-54d8-4fda-a716-8c38cf078a46"
   },
   "outputs": [
    {
     "ename": "KeyError",
     "evalue": "1",
     "output_type": "error",
     "traceback": [
      "\u001b[1;31m---------------------------------------------------------------------------\u001b[0m",
      "\u001b[1;31mKeyError\u001b[0m                                  Traceback (most recent call last)",
      "\u001b[1;32m<ipython-input-4-fe19fe9cac02>\u001b[0m in \u001b[0;36m<module>\u001b[1;34m\u001b[0m\n\u001b[1;32m----> 1\u001b[1;33m \u001b[0mprint\u001b[0m\u001b[1;33m(\u001b[0m\u001b[0mnumbers\u001b[0m\u001b[1;33m[\u001b[0m\u001b[1;36m1\u001b[0m\u001b[1;33m]\u001b[0m\u001b[1;33m)\u001b[0m\u001b[1;33m\u001b[0m\u001b[1;33m\u001b[0m\u001b[0m\n\u001b[0m",
      "\u001b[1;31mKeyError\u001b[0m: 1"
     ]
    }
   ],
   "source": [
    "print(numbers[1])"
   ]
  },
  {
   "cell_type": "code",
   "execution_count": null,
   "metadata": {},
   "outputs": [],
   "source": [
    "numbers[\"three\"]"
   ]
  },
  {
   "cell_type": "markdown",
   "metadata": {
    "colab_type": "text",
    "id": "W1mjD1T7gqSX"
   },
   "source": [
    "3. Find the number of unique keys in *numbers*."
   ]
  },
  {
   "cell_type": "code",
   "execution_count": null,
   "metadata": {},
   "outputs": [],
   "source": [
    "numbers_2 = {'one': 1,\n",
    "             'one': 1, \n",
    "             'three': 3, \n",
    "             'seven': 7, \n",
    "             'two': 2, \n",
    "             'four': 4, \n",
    "             'eight': 8, \n",
    "             'ten': 10,\n",
    "             'five': 5, \n",
    "             'six': 6,\n",
    "             'nine': 9}\n",
    "print(numbers_2)"
   ]
  },
  {
   "cell_type": "code",
   "execution_count": null,
   "metadata": {},
   "outputs": [],
   "source": [
    "len(numbers_2)"
   ]
  },
  {
   "cell_type": "code",
   "execution_count": null,
   "metadata": {},
   "outputs": [],
   "source": [
    "num_keys_2 = len(set(numbers_2))\n",
    "print(num_keys_2)"
   ]
  },
  {
   "cell_type": "markdown",
   "metadata": {
    "colab_type": "text",
    "id": "4xZAatOTgqSZ"
   },
   "source": [
    "4. Find whether 'eleven' is a key in *numbers*."
   ]
  },
  {
   "cell_type": "code",
   "execution_count": null,
   "metadata": {
    "colab": {},
    "colab_type": "code",
    "id": "sxDwn28mgqSa",
    "outputId": "64049c2f-25a7-4dfe-a8a5-4817de3cc6f6"
   },
   "outputs": [],
   "source": [
    "contains_eleven = numbers.get('eleven')\n",
    "print(contains_eleven)"
   ]
  },
  {
   "cell_type": "code",
   "execution_count": null,
   "metadata": {
    "colab": {},
    "colab_type": "code",
    "id": "KgOVmWMmgqSc",
    "outputId": "3e7813aa-9461-4cf4-8f45-959b0fa7ea05",
    "scrolled": true
   },
   "outputs": [],
   "source": [
    "contains_eleven = \"eleven\" in numbers\n",
    "print(contains_eleven)"
   ]
  },
  {
   "cell_type": "markdown",
   "metadata": {
    "colab_type": "text",
    "id": "6ggb-ylKgqSe"
   },
   "source": [
    "5. Set a new key and value pair of 'eleven': 11"
   ]
  },
  {
   "cell_type": "code",
   "execution_count": null,
   "metadata": {
    "colab": {},
    "colab_type": "code",
    "id": "xhuJW6pdgqSf",
    "outputId": "95ca6f21-affb-4c3e-b132-3ae27405eca7"
   },
   "outputs": [],
   "source": [
    "numbers['eleven'] = 11\n",
    "print(numbers)"
   ]
  },
  {
   "cell_type": "markdown",
   "metadata": {
    "colab_type": "text",
    "id": "QdlSV8ItgqSj"
   },
   "source": [
    "6. Create and sort a list of keys in *numbers*"
   ]
  },
  {
   "cell_type": "code",
   "execution_count": 5,
   "metadata": {
    "colab": {},
    "colab_type": "code",
    "id": "sG-ksflEgqSk",
    "outputId": "f9fdb5f9-4a79-4657-99ef-cbf9af3fdca1"
   },
   "outputs": [
    {
     "name": "stdout",
     "output_type": "stream",
     "text": [
      "['eight', 'five', 'four', 'nine', 'one', 'seven', 'six', 'ten', 'three', 'two']\n"
     ]
    }
   ],
   "source": [
    "sorted_keys = sorted(numbers.keys())\n",
    "print(sorted_keys)"
   ]
  },
  {
   "cell_type": "code",
   "execution_count": 6,
   "metadata": {},
   "outputs": [
    {
     "name": "stdout",
     "output_type": "stream",
     "text": [
      "[('eight', 8), ('five', 5), ('four', 4), ('nine', 9), ('one', 1), ('seven', 7), ('six', 6), ('ten', 10), ('three', 3), ('two', 2)]\n"
     ]
    }
   ],
   "source": [
    "sorted_keys = sorted(numbers.items())\n",
    "print(sorted_keys)"
   ]
  },
  {
   "cell_type": "markdown",
   "metadata": {
    "colab_type": "text",
    "id": "nIdPj4vbgqSm"
   },
   "source": [
    "7. Get the first element in the sorted list of keys"
   ]
  },
  {
   "cell_type": "code",
   "execution_count": 0,
   "metadata": {
    "colab": {},
    "colab_type": "code",
    "id": "82ALC_xmgqSn",
    "outputId": "7146e945-2a55-4161-ad9c-2e953a2720c4"
   },
   "outputs": [
    {
     "name": "stdout",
     "output_type": "stream",
     "text": [
      "eight\n"
     ]
    }
   ],
   "source": [
    "print(sorted_keys[0])"
   ]
  },
  {
   "cell_type": "markdown",
   "metadata": {
    "colab_type": "text",
    "id": "USPd9IuygqSp"
   },
   "source": [
    "8. Find the highest value in the list of keys"
   ]
  },
  {
   "cell_type": "code",
   "execution_count": 0,
   "metadata": {
    "colab": {},
    "colab_type": "code",
    "id": "km-agvd7gqSp",
    "outputId": "ea51600e-84af-4502-f19c-93e9c4fd0afd"
   },
   "outputs": [
    {
     "name": "stdout",
     "output_type": "stream",
     "text": [
      "two\n"
     ]
    }
   ],
   "source": [
    "print(sorted_keys[-1])"
   ]
  },
  {
   "cell_type": "markdown",
   "metadata": {
    "colab_type": "text",
    "id": "ZYFEjnpmgqSs"
   },
   "source": [
    "9. Create and sort a list of values in *numbers*"
   ]
  },
  {
   "cell_type": "code",
   "execution_count": 0,
   "metadata": {
    "colab": {},
    "colab_type": "code",
    "id": "5x3xPew4gqSt",
    "outputId": "208fe07d-c521-4d1f-8e47-cb00dc58f0f3"
   },
   "outputs": [
    {
     "name": "stdout",
     "output_type": "stream",
     "text": [
      "[1, 2, 3, 4, 5, 6, 7, 8, 9, 10, 11]\n"
     ]
    }
   ],
   "source": [
    "sorted_values = sorted(numbers.values())\n",
    "print(sorted_values)"
   ]
  },
  {
   "cell_type": "markdown",
   "metadata": {
    "colab_type": "text",
    "id": "UIy992r4gqSz"
   },
   "source": [
    "10. Get the first element in the sorted list of values."
   ]
  },
  {
   "cell_type": "code",
   "execution_count": 0,
   "metadata": {
    "colab": {},
    "colab_type": "code",
    "id": "V0lAHdbCgqS0",
    "outputId": "6c668937-600f-466a-f1f3-ac87f99b85bc"
   },
   "outputs": [
    {
     "name": "stdout",
     "output_type": "stream",
     "text": [
      "1\n"
     ]
    }
   ],
   "source": [
    "print(sorted_values[0])"
   ]
  },
  {
   "cell_type": "markdown",
   "metadata": {
    "colab_type": "text",
    "id": "P0hfkQV7gqS4"
   },
   "source": [
    "11. Access the value of 'nine'"
   ]
  },
  {
   "cell_type": "code",
   "execution_count": 0,
   "metadata": {
    "colab": {},
    "colab_type": "code",
    "id": "GtPNsnkhgqS5",
    "outputId": "ec10e456-312f-4b02-c16c-7f428fb1ccdd"
   },
   "outputs": [
    {
     "data": {
      "text/plain": [
       "9"
      ]
     },
     "execution_count": 12,
     "metadata": {
      "tags": []
     },
     "output_type": "execute_result"
    }
   ],
   "source": [
    "numbers['nine']"
   ]
  }
 ],
 "metadata": {
  "colab": {
   "collapsed_sections": [],
   "include_colab_link": true,
   "name": "Dictionaries.ipynb",
   "provenance": []
  },
  "kernelspec": {
   "display_name": "Python 3",
   "language": "python",
   "name": "python3"
  },
  "language_info": {
   "codemirror_mode": {
    "name": "ipython",
    "version": 3
   },
   "file_extension": ".py",
   "mimetype": "text/x-python",
   "name": "python",
   "nbconvert_exporter": "python",
   "pygments_lexer": "ipython3",
   "version": "3.8.0"
  }
 },
 "nbformat": 4,
 "nbformat_minor": 1
}
