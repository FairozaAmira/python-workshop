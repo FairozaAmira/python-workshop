{
 "cells": [
  {
   "cell_type": "markdown",
   "metadata": {
    "colab_type": "text",
    "id": "view-in-github"
   },
   "source": [
    "<a href=\"https://colab.research.google.com/github/FairozaAmira/AI_Programming_1_e/blob/master/Lesson08/For_Loop.ipynb\" target=\"_parent\"><img src=\"https://colab.research.google.com/assets/colab-badge.svg\" alt=\"Open In Colab\"/></a>"
   ]
  },
  {
   "cell_type": "markdown",
   "metadata": {
    "colab_type": "text",
    "id": "7ABi0MbFHZpW"
   },
   "source": [
    "# Solutions for For Loops Exercises"
   ]
  },
  {
   "cell_type": "markdown",
   "metadata": {
    "colab_type": "text",
    "id": "Py9mS3bjHZpY"
   },
   "source": [
    "1. By using for loops, print number 1 to 5."
   ]
  },
  {
   "cell_type": "code",
   "execution_count": 0,
   "metadata": {
    "colab": {},
    "colab_type": "code",
    "id": "t3ZvJpK-HZpZ",
    "outputId": "576a23d2-aadf-422c-98dd-84d1fbe80baf"
   },
   "outputs": [
    {
     "name": "stdout",
     "output_type": "stream",
     "text": [
      "1\n",
      "2\n",
      "3\n",
      "4\n",
      "5\n"
     ]
    }
   ],
   "source": [
    "for N in [1, 2, 3, 4, 5]:\n",
    "    print(N)"
   ]
  },
  {
   "cell_type": "markdown",
   "metadata": {
    "colab_type": "text",
    "id": "tWXFfDqVHZpe"
   },
   "source": [
    "2. Modified the code above to print number 1 to 5 in one line."
   ]
  },
  {
   "cell_type": "code",
   "execution_count": 0,
   "metadata": {
    "colab": {},
    "colab_type": "code",
    "id": "tSEr-p6sHZpf",
    "outputId": "a86636f0-5e4c-4681-d987-b87560938a6c"
   },
   "outputs": [
    {
     "name": "stdout",
     "output_type": "stream",
     "text": [
      "1 2 3 4 5 "
     ]
    }
   ],
   "source": [
    "for N in [1,2,3,4,5]:\n",
    "    print(N, end=' ')"
   ]
  },
  {
   "cell_type": "markdown",
   "metadata": {
    "colab_type": "text",
    "id": "0QS9wknrHZpj"
   },
   "source": [
    "3. Use range to print number 1 to 5 in one line."
   ]
  },
  {
   "cell_type": "code",
   "execution_count": 0,
   "metadata": {
    "colab": {},
    "colab_type": "code",
    "id": "e38zYo6IHZpk",
    "outputId": "17ecbf58-23d8-4cdb-f339-324a3bebd280"
   },
   "outputs": [
    {
     "name": "stdout",
     "output_type": "stream",
     "text": [
      "1 2 3 4 5 "
     ]
    }
   ],
   "source": [
    "for N in range(1,6):\n",
    "    print(N, end=' ')"
   ]
  },
  {
   "cell_type": "markdown",
   "metadata": {
    "colab_type": "text",
    "id": "XgKtMiy3HZpm"
   },
   "source": [
    "Range start by 0 at default. So, the `in range` refers to `in range(start, end, step)`"
   ]
  },
  {
   "cell_type": "markdown",
   "metadata": {
    "colab_type": "text",
    "id": "oZZqTU6YHZpn"
   },
   "source": [
    "4. Set a list with range 1 to 5."
   ]
  },
  {
   "cell_type": "code",
   "execution_count": 0,
   "metadata": {
    "colab": {},
    "colab_type": "code",
    "id": "2xe_NrSVHZpn",
    "outputId": "18c0623a-d40e-496c-c6fd-c93a3ae2ceaa"
   },
   "outputs": [
    {
     "data": {
      "text/plain": [
       "[1, 2, 3, 4, 5]"
      ]
     },
     "execution_count": 4,
     "metadata": {
      "tags": []
     },
     "output_type": "execute_result"
    }
   ],
   "source": [
    "list(range(1,6))"
   ]
  },
  {
   "cell_type": "markdown",
   "metadata": {
    "colab_type": "text",
    "id": "zCAlHsSRHZpq"
   },
   "source": [
    "5. Write a for loop for multiples of 3 where N is not less than and equal to 30."
   ]
  },
  {
   "cell_type": "code",
   "execution_count": 0,
   "metadata": {
    "colab": {},
    "colab_type": "code",
    "id": "XA3MxhwHHZpq",
    "outputId": "cdb730a2-8e91-461e-ccf1-685a4118613f"
   },
   "outputs": [
    {
     "name": "stdout",
     "output_type": "stream",
     "text": [
      "3\n",
      "6\n",
      "9\n",
      "12\n",
      "15\n",
      "18\n",
      "21\n",
      "24\n",
      "27\n",
      "30\n"
     ]
    }
   ],
   "source": [
    "for N in range(3,31,3):\n",
    "    print(N)"
   ]
  },
  {
   "cell_type": "markdown",
   "metadata": {
    "colab_type": "text",
    "id": "yWn-114JHZpt"
   },
   "source": [
    "6. Find the sum of number 1 to 5."
   ]
  },
  {
   "cell_type": "code",
   "execution_count": 0,
   "metadata": {
    "colab": {},
    "colab_type": "code",
    "id": "KOsoo8p0HZpu",
    "outputId": "2f1f155d-44b6-4a02-e2b4-7d9aa0be1aaa"
   },
   "outputs": [
    {
     "name": "stdout",
     "output_type": "stream",
     "text": [
      "15\n"
     ]
    }
   ],
   "source": [
    "total = 0\n",
    "for N in range(1,6):\n",
    "    total += N\n",
    "print(total)"
   ]
  },
  {
   "cell_type": "markdown",
   "metadata": {
    "colab_type": "text",
    "id": "hy8bf6PzHZpw"
   },
   "source": [
    "7. Write a for loop that iterates over the `places` list to create a `new_places` list that replace the space with hyphen and in the first letter in capital letter.\n",
    "`places = [\"kamigyo ku\",\"nakagyo ku\", \"sakyo ku\"]`\n",
    "It should create a list\n",
    "`new_places = [\"Kamigyo-ku\",\"Nakagyo-ku\", \"Sakyo-ku\"]`"
   ]
  },
  {
   "cell_type": "code",
   "execution_count": 0,
   "metadata": {
    "colab": {},
    "colab_type": "code",
    "id": "YrF_85VmHZpx",
    "outputId": "3f82fdbd-b2c6-448f-ef61-dd8d7eba6aa7"
   },
   "outputs": [
    {
     "name": "stdout",
     "output_type": "stream",
     "text": [
      "['Kamigyo-ku', 'Nakagyo-ku', 'Sakyo-ku']\n"
     ]
    }
   ],
   "source": [
    "places = [\"kamigyo ku\",\"nakagyo ku\", \"sakyo ku\"]\n",
    "new_places = []\n",
    "\n",
    "for place in places:\n",
    "    new_places.append(place.capitalize().replace(\" \",\"-\"))\n",
    "print(new_places)"
   ]
  },
  {
   "cell_type": "code",
   "execution_count": 0,
   "metadata": {
    "colab": {},
    "colab_type": "code",
    "id": "w0Ck0302HZpz",
    "outputId": "9ecdb10b-ddfc-4314-926b-78d666c3b2c1"
   },
   "outputs": [
    {
     "name": "stdout",
     "output_type": "stream",
     "text": [
      "['Kamigyo-ku', 'Nakagyo-ku', 'Sakyo-ku']\n"
     ]
    }
   ],
   "source": [
    "new_places = [\"kamigyo ku\",\"nakagyo ku\", \"sakyo ku\"]\n",
    "\n",
    "for i in range(len(new_places)):\n",
    "    new_places[i] = new_places[i].capitalize().replace(\" \", \"-\")\n",
    "print(new_places)"
   ]
  },
  {
   "cell_type": "markdown",
   "metadata": {
    "colab_type": "text",
    "id": "nmkMByX8HZp2"
   },
   "source": [
    "8. Calculate the total amount of fruits in the baskets. Given a dictionary of `basket_items = {'apples': 4, 'oranges': 19, 'kites': 3, 'sandwiches': 8}` and list `fruits = ['apples', 'oranges', 'pears', 'peaches', 'grapes', 'bananas']`. "
   ]
  },
  {
   "cell_type": "code",
   "execution_count": 1,
   "metadata": {
    "colab": {},
    "colab_type": "code",
    "id": "qv8FIWpjHZp3",
    "outputId": "e217ae3e-f206-46cb-be4c-becbfb257505"
   },
   "outputs": [
    {
     "name": "stdout",
     "output_type": "stream",
     "text": [
      "There are 23 fruits in the basket.\n"
     ]
    }
   ],
   "source": [
    "total = 0\n",
    "basket_items = {'apples': 4, 'oranges': 19, 'kites': 3, 'sandwiches': 8}\n",
    "fruits = ['apples', 'oranges', 'pears', 'peaches', 'grapes', 'bananas']\n",
    "\n",
    "for objects, calculate in basket_items.items():\n",
    "    if objects in fruits:\n",
    "        total += calculate\n",
    "\n",
    "print(\"There are {} fruits in the basket.\".format(total))\n"
   ]
  },
  {
   "cell_type": "markdown",
   "metadata": {
    "colab_type": "text",
    "id": "ix8-QS-9HZp5"
   },
   "source": [
    "9. Calculate how many items are not fruits in the basket."
   ]
  },
  {
   "cell_type": "code",
   "execution_count": 0,
   "metadata": {
    "colab": {},
    "colab_type": "code",
    "id": "ILNzKjgVHZp6",
    "outputId": "609349bc-8b05-48ec-a6f3-388e73250c0e"
   },
   "outputs": [
    {
     "name": "stdout",
     "output_type": "stream",
     "text": [
      "There are 11 of other items in the basket.\n"
     ]
    }
   ],
   "source": [
    "total = 0\n",
    "for object, calculate in basket_items.items():\n",
    "    if object not in fruits:\n",
    "        total += calculate\n",
    "\n",
    "print(\"There are {} of other items in the basket.\".format(total))"
   ]
  },
  {
   "cell_type": "code",
   "execution_count": 0,
   "metadata": {
    "colab": {},
    "colab_type": "code",
    "id": "6tV_ckoAHZp8"
   },
   "outputs": [],
   "source": []
  }
 ],
 "metadata": {
  "colab": {
   "collapsed_sections": [],
   "include_colab_link": true,
   "name": "For Loop.ipynb",
   "provenance": []
  },
  "kernelspec": {
   "display_name": "Python 3",
   "language": "python",
   "name": "python3"
  },
  "language_info": {
   "codemirror_mode": {
    "name": "ipython",
    "version": 3
   },
   "file_extension": ".py",
   "mimetype": "text/x-python",
   "name": "python",
   "nbconvert_exporter": "python",
   "pygments_lexer": "ipython3",
   "version": "3.8.0"
  }
 },
 "nbformat": 4,
 "nbformat_minor": 1
}
