{
 "cells": [
  {
   "cell_type": "markdown",
   "metadata": {
    "colab_type": "text",
    "id": "view-in-github"
   },
   "source": [
    "<a href=\"https://colab.research.google.com/github/FairozaAmira/AI_Programming_1_e/blob/master/Lesson07/If_statements.ipynb\" target=\"_parent\"><img src=\"https://colab.research.google.com/assets/colab-badge.svg\" alt=\"Open In Colab\"/></a>"
   ]
  },
  {
   "cell_type": "markdown",
   "metadata": {
    "colab_type": "text",
    "id": "a74X4YiFg0cX"
   },
   "source": [
    "# Solution for if statements exercises"
   ]
  },
  {
   "cell_type": "markdown",
   "metadata": {
    "colab_type": "text",
    "id": "rNsONszlg0cZ"
   },
   "source": [
    "1. Write a conditional statements according to flowchart below.\n",
    "\n",
    "<img src=\"https://github.com/FairozaAmira/AI_course/blob/master/Lesson06/if.png?raw=1\">"
   ]
  },
  {
   "cell_type": "code",
   "execution_count": 2,
   "metadata": {
    "colab": {},
    "colab_type": "code",
    "id": "08kcREbQg0cb",
    "outputId": "336d6e84-ee1a-48fa-f173-5192c1dd546c"
   },
   "outputs": [
    {
     "name": "stdout",
     "output_type": "stream",
     "text": [
      "please insert any numbers\n",
      "0\n",
      "0 is zero\n"
     ]
    }
   ],
   "source": [
    "print(\"please insert any numbers\")\n",
    "x = input()\n",
    "x = int(x)\n",
    "\n",
    "if x == 0:\n",
    "    print(x, \"is zero\")\n",
    "elif x > 0:\n",
    "    print(x, \"is positive\")\n",
    "elif x < 0:\n",
    "    print(x, \"is negative\")\n",
    "else:\n",
    "    print(x, \"is None\")\n"
   ]
  },
  {
   "cell_type": "markdown",
   "metadata": {
    "colab_type": "text",
    "id": "onxLXV8vg0cg"
   },
   "source": [
    "**Finding the right amount of purchased item based on the tax of the goods**\n",
    "2. Find the right amount of purchased item based on the tax implemented in the city of the goods sold. The tax for each country is as below:\n",
    "\n",
    "Japan : 10%\n",
    "\n",
    "Malaysia: 6%\n",
    "\n",
    "UK: 14%\n",
    "\n",
    "Europe: 20%\n",
    "\n",
    "Print the result of the purchased item price. Round it to the nearest decimal places. The price of the item should be in USD.  \n",
    "You may use input() to ask user to input an entry.\n",
    "\n",
    "Necessary variables:\n",
    "\n",
    "Raw_price_of_good\n",
    "\n",
    "Country\n"
   ]
  },
  {
   "cell_type": "code",
   "execution_count": 4,
   "metadata": {
    "colab": {},
    "colab_type": "code",
    "id": "sesjsqb7g0ch",
    "outputId": "b79871a5-db40-46df-e43a-8ec5a8a752ec"
   },
   "outputs": [
    {
     "name": "stdout",
     "output_type": "stream",
     "text": [
      "Please put country name (Japan, Malaysia, UK, Europe):\n",
      "Malaysia\n",
      "Please put the raw price of each good:\n",
      "3\n",
      "You need to pay 3.18 USD because you are from Malaysia\n"
     ]
    }
   ],
   "source": [
    "print(\"Please put country name (Japan, Malaysia, UK, Europe):\")\n",
    "country = input()\n",
    "print(\"Please put the raw price of each good:\")\n",
    "raw_price_of_good = input()\n",
    "raw_price_of_good = float(raw_price_of_good)\n",
    "\n",
    "if country == 'Japan':\n",
    "    tax_amount = 0.10\n",
    "    total_cost = raw_price_of_good * (1+tax_amount)\n",
    "    total_cost = round(total_cost, 2)\n",
    "    result = \"You need to pay {} USD because you are from {}\".format(total_cost, country)\n",
    "elif country == 'Malaysia':\n",
    "    tax_amount = 0.06\n",
    "    total_cost = raw_price_of_good * (1+tax_amount)\n",
    "    total_cost = round(total_cost, 2)\n",
    "    result = \"You need to pay {} USD because you are from {}\".format(total_cost, country)\n",
    "elif country == 'UK':\n",
    "    tax_amount = 0.14\n",
    "    total_cost = raw_price_of_good * (1+tax_amount)\n",
    "    total_cost = round(total_cost, 2)\n",
    "    result = \"You need to pay {} USD because you are from {}\".format(total_cost, country)\n",
    "else:\n",
    "    tax_amount = 0.20\n",
    "    total_cost = raw_price_of_good * (1+tax_amount)\n",
    "    total_cost = round(total_cost, 2)\n",
    "    result = \"You need to pay {} USD because you are from {}\".format(total_cost, country)\n",
    "\n",
    "print(result)"
   ]
  },
  {
   "cell_type": "code",
   "execution_count": null,
   "metadata": {
    "colab": {},
    "colab_type": "code",
    "id": "2sT7INPPg0ck"
   },
   "outputs": [],
   "source": []
  }
 ],
 "metadata": {
  "colab": {
   "collapsed_sections": [],
   "include_colab_link": true,
   "name": "If statements.ipynb",
   "provenance": []
  },
  "kernelspec": {
   "display_name": "Python 3",
   "language": "python",
   "name": "python3"
  },
  "language_info": {
   "codemirror_mode": {
    "name": "ipython",
    "version": 3
   },
   "file_extension": ".py",
   "mimetype": "text/x-python",
   "name": "python",
   "nbconvert_exporter": "python",
   "pygments_lexer": "ipython3",
   "version": "3.8.0"
  }
 },
 "nbformat": 4,
 "nbformat_minor": 1
}
