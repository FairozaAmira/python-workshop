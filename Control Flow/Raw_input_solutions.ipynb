{
 "cells": [
  {
   "cell_type": "markdown",
   "metadata": {
    "colab_type": "text",
    "id": "view-in-github"
   },
   "source": [
    "<a href=\"https://colab.research.google.com/github/FairozaAmira/AI_Programming_1_e/blob/master/Lesson08/Raw_input_solutions.ipynb\" target=\"_parent\"><img src=\"https://colab.research.google.com/assets/colab-badge.svg\" alt=\"Open In Colab\"/></a>"
   ]
  },
  {
   "cell_type": "markdown",
   "metadata": {
    "colab_type": "text",
    "id": "qc7tm1Vr5ReX"
   },
   "source": [
    "# Solutions for scripting a raw input exercises"
   ]
  },
  {
   "cell_type": "markdown",
   "metadata": {
    "colab_type": "text",
    "id": "X-6W43E-5Rea"
   },
   "source": [
    "**Question 1**\n",
    "\n",
    "Ask user to input their names and print it."
   ]
  },
  {
   "cell_type": "code",
   "execution_count": 1,
   "metadata": {
    "colab": {
     "base_uri": "https://localhost:8080/",
     "height": 50
    },
    "colab_type": "code",
    "id": "It1MjUyP5Rec",
    "outputId": "df506afd-3440-41d1-bef8-22965934750f"
   },
   "outputs": [
    {
     "name": "stdout",
     "output_type": "stream",
     "text": [
      "Your name: Fairoza\n",
      "Fairoza\n"
     ]
    }
   ],
   "source": [
    "name = input(\"Your name: \")\n",
    "print(name)"
   ]
  },
  {
   "cell_type": "markdown",
   "metadata": {
    "colab_type": "text",
    "id": "IiK3aw4p5Rei"
   },
   "source": [
    "**Question 2**\n",
    "\n",
    "Based on the answer in question 1, say hello to the user."
   ]
  },
  {
   "cell_type": "code",
   "execution_count": 2,
   "metadata": {
    "colab": {
     "base_uri": "https://localhost:8080/",
     "height": 33
    },
    "colab_type": "code",
    "id": "keAsqki_5Rep",
    "outputId": "7a30127e-1604-41ce-8b03-4931c7026b3a"
   },
   "outputs": [
    {
     "name": "stdout",
     "output_type": "stream",
     "text": [
      "Hello Fairoza!\n"
     ]
    }
   ],
   "source": [
    "print(\"Hello {}!\".format(name))"
   ]
  },
  {
   "cell_type": "markdown",
   "metadata": {
    "colab_type": "text",
    "id": "q6OuUucf5Rev"
   },
   "source": [
    "**Question 3**\n",
    "\n",
    "Ask the user how old is he or she. "
   ]
  },
  {
   "cell_type": "code",
   "execution_count": 3,
   "metadata": {
    "colab": {
     "base_uri": "https://localhost:8080/",
     "height": 50
    },
    "colab_type": "code",
    "id": "BghbUJ8V5Rex",
    "outputId": "1f634268-f123-4d92-9a0a-6d1293d01df0"
   },
   "outputs": [
    {
     "name": "stdout",
     "output_type": "stream",
     "text": [
      "Your age: 29\n",
      "29\n"
     ]
    }
   ],
   "source": [
    "age = input(\"Your age: \")\n",
    "print(age)"
   ]
  },
  {
   "cell_type": "markdown",
   "metadata": {
    "colab_type": "text",
    "id": "Qe_Jaz845Re7"
   },
   "source": [
    "**Question 4**\n",
    "\n",
    "Add user's age to his/her age in 5 years later."
   ]
  },
  {
   "cell_type": "code",
   "execution_count": 4,
   "metadata": {
    "colab": {
     "base_uri": "https://localhost:8080/",
     "height": 33
    },
    "colab_type": "code",
    "id": "Mv43Kpsx5Re_",
    "outputId": "0a5821cb-ba83-493b-d724-d0839cedc131"
   },
   "outputs": [
    {
     "name": "stdout",
     "output_type": "stream",
     "text": [
      "34\n"
     ]
    }
   ],
   "source": [
    "age = int(age)\n",
    "age_5_years_later = age + 5\n",
    "print(age_5_years_later)"
   ]
  },
  {
   "cell_type": "markdown",
   "metadata": {
    "colab_type": "text",
    "id": "Cbhz0ith5RfK"
   },
   "source": [
    "**Question 5**\n",
    "\n",
    "Print something as below.\n",
    "`Hello <user>! \n",
    "Now you are <age> years old and in 5 years time you will be <age_5_years_later> years old.`"
   ]
  },
  {
   "cell_type": "code",
   "execution_count": 5,
   "metadata": {
    "colab": {
     "base_uri": "https://localhost:8080/",
     "height": 50
    },
    "colab_type": "code",
    "id": "Sql123L-5RfM",
    "outputId": "54981298-107a-44b6-c550-f87297f4fa4e"
   },
   "outputs": [
    {
     "name": "stdout",
     "output_type": "stream",
     "text": [
      "Hello Fairoza!\n",
      "Now you are 29 years old and in 5 years time you will be 34 years old\n"
     ]
    }
   ],
   "source": [
    "print(\"Hello {}!\\nNow you are {} years old and in 5 years time you will be {} years old\".format(name, age, age_5_years_later))"
   ]
  },
  {
   "cell_type": "markdown",
   "metadata": {
    "colab_type": "text",
    "id": "qijq0cYh5RfU"
   },
   "source": [
    "**Bonus**\n",
    "\n",
    "If you have lots of people would like to key in the sentences above, how would you do that?\n",
    "\n",
    "*Hint: You may use for loop where we are going to learn this in Lesson 6*"
   ]
  },
  {
   "cell_type": "code",
   "execution_count": 6,
   "metadata": {
    "colab": {
     "base_uri": "https://localhost:8080/",
     "height": 117
    },
    "colab_type": "code",
    "id": "aTDfQzaO5RfX",
    "outputId": "3a9e661f-e7b7-4784-9b06-4667127eeb75"
   },
   "outputs": [
    {
     "name": "stdout",
     "output_type": "stream",
     "text": [
      "Names separated by commas: Fairoza, David\n",
      "Age for each separated by commas: 29, 28\n",
      "Hello Fairoza!\n",
      "Now you are 29 years old and in 5 years time you will be 34 years old\n",
      "Hello  David!\n",
      "Now you are  28 years old and in 5 years time you will be 33 years old\n"
     ]
    }
   ],
   "source": [
    "names = input(\"Names separated by commas: \").title().split(\",\")\n",
    "ages = input(\"Age for each separated by commas: \").split(\",\")\n",
    "message = \"Hello {}!\\nNow you are {} years old and in 5 years time you will be {} years old\"\n",
    "\n",
    "for name, age in zip(names, ages):\n",
    "    print(message.format(name, age, int(age)+5))"
   ]
  },
  {
   "cell_type": "code",
   "execution_count": 0,
   "metadata": {
    "colab": {},
    "colab_type": "code",
    "id": "kT5X7y3P5Rfb"
   },
   "outputs": [],
   "source": []
  }
 ],
 "metadata": {
  "colab": {
   "collapsed_sections": [],
   "include_colab_link": true,
   "name": "Raw_input_solutions.ipynb",
   "provenance": []
  },
  "kernelspec": {
   "display_name": "Python 3",
   "language": "python",
   "name": "python3"
  },
  "language_info": {
   "codemirror_mode": {
    "name": "ipython",
    "version": 3
   },
   "file_extension": ".py",
   "mimetype": "text/x-python",
   "name": "python",
   "nbconvert_exporter": "python",
   "pygments_lexer": "ipython3",
   "version": "3.8.0"
  }
 },
 "nbformat": 4,
 "nbformat_minor": 1
}
